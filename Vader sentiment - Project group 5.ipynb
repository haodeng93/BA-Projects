{
 "cells": [
  {
   "cell_type": "code",
   "execution_count": 2,
   "metadata": {},
   "outputs": [],
   "source": [
    "# load libraries\n",
    "import pandas as pd\n",
    "import nltk # https://www.nltk.org/ ; nltk helps with tokenization, stopwords dictionary, lemmatization\n",
    "import re # https://docs.python.org/3/library/re.html ; re is used for regular expressions\n",
    "import numpy as np"
   ]
  },
  {
   "cell_type": "code",
   "execution_count": 3,
   "metadata": {},
   "outputs": [
    {
     "data": {
      "text/html": [
       "<div>\n",
       "<style scoped>\n",
       "    .dataframe tbody tr th:only-of-type {\n",
       "        vertical-align: middle;\n",
       "    }\n",
       "\n",
       "    .dataframe tbody tr th {\n",
       "        vertical-align: top;\n",
       "    }\n",
       "\n",
       "    .dataframe thead th {\n",
       "        text-align: right;\n",
       "    }\n",
       "</style>\n",
       "<table border=\"1\" class=\"dataframe\">\n",
       "  <thead>\n",
       "    <tr style=\"text-align: right;\">\n",
       "      <th></th>\n",
       "      <th>location</th>\n",
       "      <th>date</th>\n",
       "      <th>review</th>\n",
       "      <th>brand</th>\n",
       "    </tr>\n",
       "  </thead>\n",
       "  <tbody>\n",
       "    <tr>\n",
       "      <td>0</td>\n",
       "      <td>New York</td>\n",
       "      <td>12/30/2018</td>\n",
       "      <td>I think that?s out your system 2-3 days..but o...</td>\n",
       "      <td>Listerine</td>\n",
       "    </tr>\n",
       "    <tr>\n",
       "      <td>1</td>\n",
       "      <td>New Haven</td>\n",
       "      <td>12/30/2018</td>\n",
       "      <td>Jawn be gettin off work tryna meet up / jawn b...</td>\n",
       "      <td>Listerine</td>\n",
       "    </tr>\n",
       "    <tr>\n",
       "      <td>2</td>\n",
       "      <td>Eureka</td>\n",
       "      <td>12/30/2018</td>\n",
       "      <td>Never did the whole Listerine, but a line a da...</td>\n",
       "      <td>Listerine</td>\n",
       "    </tr>\n",
       "    <tr>\n",
       "      <td>3</td>\n",
       "      <td>New York</td>\n",
       "      <td>12/30/2018</td>\n",
       "      <td>Genetics are so real, I have the exact same ca...</td>\n",
       "      <td>Listerine</td>\n",
       "    </tr>\n",
       "    <tr>\n",
       "      <td>4</td>\n",
       "      <td>Portland</td>\n",
       "      <td>12/30/2018</td>\n",
       "      <td>Listerine Mouthwash Just 99¢ After Ibotta &amp; Wa...</td>\n",
       "      <td>Listerine</td>\n",
       "    </tr>\n",
       "  </tbody>\n",
       "</table>\n",
       "</div>"
      ],
      "text/plain": [
       "    location        date                                             review  \\\n",
       "0   New York  12/30/2018  I think that?s out your system 2-3 days..but o...   \n",
       "1  New Haven  12/30/2018  Jawn be gettin off work tryna meet up / jawn b...   \n",
       "2     Eureka  12/30/2018  Never did the whole Listerine, but a line a da...   \n",
       "3   New York  12/30/2018  Genetics are so real, I have the exact same ca...   \n",
       "4   Portland  12/30/2018  Listerine Mouthwash Just 99¢ After Ibotta & Wa...   \n",
       "\n",
       "       brand  \n",
       "0  Listerine  \n",
       "1  Listerine  \n",
       "2  Listerine  \n",
       "3  Listerine  \n",
       "4  Listerine  "
      ]
     },
     "execution_count": 3,
     "metadata": {},
     "output_type": "execute_result"
    }
   ],
   "source": [
    "#import pre-cleaned brandwatch file\n",
    "data_bw = pd.read_csv(\"brandwatch.csv\", header = 0, engine='python')\n",
    "data_bw.head()"
   ]
  },
  {
   "cell_type": "code",
   "execution_count": 4,
   "metadata": {},
   "outputs": [],
   "source": [
    "#import vader\n",
    "from vaderSentiment.vaderSentiment import SentimentIntensityAnalyzer\n",
    "analyzer = SentimentIntensityAnalyzer()"
   ]
  },
  {
   "cell_type": "code",
   "execution_count": 6,
   "metadata": {},
   "outputs": [],
   "source": [
    "#turn reviews into str so that vader can be applied\n",
    "data_bw['review'] = data_bw['review'].astype(str)"
   ]
  },
  {
   "cell_type": "code",
   "execution_count": 7,
   "metadata": {},
   "outputs": [
    {
     "data": {
      "text/html": [
       "<div>\n",
       "<style scoped>\n",
       "    .dataframe tbody tr th:only-of-type {\n",
       "        vertical-align: middle;\n",
       "    }\n",
       "\n",
       "    .dataframe tbody tr th {\n",
       "        vertical-align: top;\n",
       "    }\n",
       "\n",
       "    .dataframe thead th {\n",
       "        text-align: right;\n",
       "    }\n",
       "</style>\n",
       "<table border=\"1\" class=\"dataframe\">\n",
       "  <thead>\n",
       "    <tr style=\"text-align: right;\">\n",
       "      <th></th>\n",
       "      <th>location</th>\n",
       "      <th>date</th>\n",
       "      <th>review</th>\n",
       "      <th>brand</th>\n",
       "      <th>Review_neg</th>\n",
       "      <th>Review_pos</th>\n",
       "      <th>Review_neu</th>\n",
       "    </tr>\n",
       "  </thead>\n",
       "  <tbody>\n",
       "    <tr>\n",
       "      <td>0</td>\n",
       "      <td>New York</td>\n",
       "      <td>12/30/2018</td>\n",
       "      <td>I think that?s out your system 2-3 days..but o...</td>\n",
       "      <td>Listerine</td>\n",
       "      <td>0.000</td>\n",
       "      <td>0.000</td>\n",
       "      <td>1.000</td>\n",
       "    </tr>\n",
       "    <tr>\n",
       "      <td>1</td>\n",
       "      <td>New Haven</td>\n",
       "      <td>12/30/2018</td>\n",
       "      <td>Jawn be gettin off work tryna meet up / jawn b...</td>\n",
       "      <td>Listerine</td>\n",
       "      <td>0.047</td>\n",
       "      <td>0.060</td>\n",
       "      <td>0.892</td>\n",
       "    </tr>\n",
       "    <tr>\n",
       "      <td>2</td>\n",
       "      <td>Eureka</td>\n",
       "      <td>12/30/2018</td>\n",
       "      <td>Never did the whole Listerine, but a line a da...</td>\n",
       "      <td>Listerine</td>\n",
       "      <td>0.175</td>\n",
       "      <td>0.000</td>\n",
       "      <td>0.825</td>\n",
       "    </tr>\n",
       "    <tr>\n",
       "      <td>3</td>\n",
       "      <td>New York</td>\n",
       "      <td>12/30/2018</td>\n",
       "      <td>Genetics are so real, I have the exact same ca...</td>\n",
       "      <td>Listerine</td>\n",
       "      <td>0.000</td>\n",
       "      <td>0.104</td>\n",
       "      <td>0.896</td>\n",
       "    </tr>\n",
       "    <tr>\n",
       "      <td>4</td>\n",
       "      <td>Portland</td>\n",
       "      <td>12/30/2018</td>\n",
       "      <td>Listerine Mouthwash Just 99¢ After Ibotta &amp; Wa...</td>\n",
       "      <td>Listerine</td>\n",
       "      <td>0.000</td>\n",
       "      <td>0.237</td>\n",
       "      <td>0.763</td>\n",
       "    </tr>\n",
       "  </tbody>\n",
       "</table>\n",
       "</div>"
      ],
      "text/plain": [
       "    location        date                                             review  \\\n",
       "0   New York  12/30/2018  I think that?s out your system 2-3 days..but o...   \n",
       "1  New Haven  12/30/2018  Jawn be gettin off work tryna meet up / jawn b...   \n",
       "2     Eureka  12/30/2018  Never did the whole Listerine, but a line a da...   \n",
       "3   New York  12/30/2018  Genetics are so real, I have the exact same ca...   \n",
       "4   Portland  12/30/2018  Listerine Mouthwash Just 99¢ After Ibotta & Wa...   \n",
       "\n",
       "       brand  Review_neg  Review_pos  Review_neu  \n",
       "0  Listerine       0.000       0.000       1.000  \n",
       "1  Listerine       0.047       0.060       0.892  \n",
       "2  Listerine       0.175       0.000       0.825  \n",
       "3  Listerine       0.000       0.104       0.896  \n",
       "4  Listerine       0.000       0.237       0.763  "
      ]
     },
     "execution_count": 7,
     "metadata": {},
     "output_type": "execute_result"
    }
   ],
   "source": [
    "data_bw['Review_neg'] = [analyzer.polarity_scores(x)['neg'] for x in data_bw['review']]\n",
    "data_bw['Review_pos'] = [analyzer.polarity_scores(x)['pos'] for x in data_bw['review']]\n",
    "data_bw['Review_neu'] = [analyzer.polarity_scores(x)['neu'] for x in data_bw['review']]\n",
    "data_bw.head()"
   ]
  },
  {
   "cell_type": "code",
   "execution_count": 8,
   "metadata": {},
   "outputs": [],
   "source": [
    "#write csv\n",
    "data_bw.to_csv(\"brandwatch_vader.csv\")"
   ]
  },
  {
   "cell_type": "code",
   "execution_count": null,
   "metadata": {},
   "outputs": [],
   "source": []
  }
 ],
 "metadata": {
  "kernelspec": {
   "display_name": "Python 3",
   "language": "python",
   "name": "python3"
  },
  "language_info": {
   "codemirror_mode": {
    "name": "ipython",
    "version": 3
   },
   "file_extension": ".py",
   "mimetype": "text/x-python",
   "name": "python",
   "nbconvert_exporter": "python",
   "pygments_lexer": "ipython3",
   "version": "3.7.4"
  }
 },
 "nbformat": 4,
 "nbformat_minor": 2
}
